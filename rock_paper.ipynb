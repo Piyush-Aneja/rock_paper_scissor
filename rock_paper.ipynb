{
 "cells": [
  {
   "cell_type": "code",
   "execution_count": 2,
   "metadata": {},
   "outputs": [
    {
     "name": "stderr",
     "output_type": "stream",
     "text": [
      "Using TensorFlow backend.\n"
     ]
    }
   ],
   "source": [
    "import tensorflow as tf\n",
    "import keras\n",
    "from keras.layers import Dense,Conv2D,MaxPooling2D,Flatten,Dropout\n",
    "from keras.models import Sequential\n",
    "import numpy as np\n",
    "import matplotlib.pyplot as plt\n",
    "import cv2\n",
    "from sklearn.model_selection import train_test_split\n",
    "from keras.preprocessing.image import ImageDataGenerator,img_to_array,load_img\n",
    "from keras.utils import to_categorical\n",
    "import os\n",
    "import seaborn as sns"
   ]
  },
  {
   "cell_type": "code",
   "execution_count": 211,
   "metadata": {},
   "outputs": [],
   "source": [
    "dir=r\"D:\\dataset\\rock_paperCopy\\rps_cv_images\""
   ]
  },
  {
   "cell_type": "code",
   "execution_count": 212,
   "metadata": {},
   "outputs": [
    {
     "name": "stdout",
     "output_type": "stream",
     "text": [
      "2848\n"
     ]
    }
   ],
   "source": [
    "print(len(os.listdir(os.path.join(dir,\"paper\"))))"
   ]
  },
  {
   "cell_type": "code",
   "execution_count": 213,
   "metadata": {},
   "outputs": [],
   "source": [
    "datagen=ImageDataGenerator(\n",
    "horizontal_flip=True,\n",
    "    vertical_flip=True,\n",
    "    shear_range=0.2,\n",
    "    zoom_range=0.2,\n",
    "    rotation_range=90,\n",
    "    fill_mode=\"nearest\"\n",
    ")"
   ]
  },
  {
   "cell_type": "code",
   "execution_count": 214,
   "metadata": {},
   "outputs": [],
   "source": [
    "def data_augment():\n",
    "    k=0\n",
    "    c=0 #needed as whenever it forms batch as prefix will be same if we dont use so it overwrites. \n",
    "    for cl in os.listdir(r\"D:\\dataset\\rock_paperCopy\\rps_cv_images\"):\n",
    "        folderpath=os.path.join(r\"D:\\dataset\\rock_paperCopy\\rps_cv_images\",cl)\n",
    "        for img in os.listdir(folderpath):\n",
    "        #     print(img)\n",
    "\n",
    "            filepath=os.path.join(folderpath,img)\n",
    "        #     print(filepath)\n",
    "            if os.path.isfile(filepath):\n",
    "\n",
    "                img=cv2.imread(filepath,0)\n",
    "                img=img.reshape((1,)+img.shape+(1,))\n",
    "            #     print(img.shape)\n",
    "            #     break\n",
    "                c=c+1\n",
    "                for i in datagen.flow(img,save_prefix=cl+str(c),seed=22,save_to_dir=folderpath):\n",
    "                    k+=1\n",
    "                    if k>2:\n",
    "                        k=0\n",
    "    #                     print(\"completed set\")\n",
    "                        break;\n",
    "        print(\"Completed one folder\")\n",
    "        c=0"
   ]
  },
  {
   "cell_type": "code",
   "execution_count": 3,
   "metadata": {},
   "outputs": [],
   "source": [
    "classes={0:\"paper\",1:\"rock\",2:\"scissors\"}"
   ]
  },
  {
   "cell_type": "code",
   "execution_count": 216,
   "metadata": {},
   "outputs": [],
   "source": [
    "c=0\n",
    "\n",
    "dataset=[]\n",
    "for folder in os.listdir(dir):\n",
    "#     print(folder)\n",
    "    path1=os.path.join(dir,folder)\n",
    "    for img in os.listdir(path1):\n",
    "#         print(img)\n",
    "        img=load_img(os.path.join(path1,img),target_size=(50,50),color_mode = \"grayscale\")\n",
    "        img=img_to_array(img)\n",
    "        \n",
    "        img=img/255.0\n",
    "        dataset.append([img,c])\n",
    "        \n",
    "    c=c+1\n",
    "        \n",
    "        \n",
    "    "
   ]
  },
  {
   "cell_type": "code",
   "execution_count": 217,
   "metadata": {},
   "outputs": [
    {
     "data": {
      "text/plain": [
       "[array([[[0.41960785],\n",
       "         [0.44705883],\n",
       "         [0.44313726],\n",
       "         ...,\n",
       "         [0.43137255],\n",
       "         [0.42745098],\n",
       "         [0.40784314]],\n",
       " \n",
       "        [[0.45490196],\n",
       "         [0.44313726],\n",
       "         [0.45490196],\n",
       "         ...,\n",
       "         [0.42352942],\n",
       "         [0.41568628],\n",
       "         [0.41568628]],\n",
       " \n",
       "        [[0.44705883],\n",
       "         [0.4509804 ],\n",
       "         [0.45490196],\n",
       "         ...,\n",
       "         [0.4392157 ],\n",
       "         [0.42352942],\n",
       "         [0.42745098]],\n",
       " \n",
       "        ...,\n",
       " \n",
       "        [[0.45490196],\n",
       "         [0.45490196],\n",
       "         [0.4509804 ],\n",
       "         ...,\n",
       "         [0.5058824 ],\n",
       "         [0.50980395],\n",
       "         [0.5019608 ]],\n",
       " \n",
       "        [[0.4509804 ],\n",
       "         [0.45490196],\n",
       "         [0.4627451 ],\n",
       "         ...,\n",
       "         [0.5058824 ],\n",
       "         [0.49019608],\n",
       "         [0.49803922]],\n",
       " \n",
       "        [[0.45490196],\n",
       "         [0.4509804 ],\n",
       "         [0.45490196],\n",
       "         ...,\n",
       "         [0.5058824 ],\n",
       "         [0.49019608],\n",
       "         [0.4862745 ]]], dtype=float32), 0]"
      ]
     },
     "execution_count": 217,
     "metadata": {},
     "output_type": "execute_result"
    }
   ],
   "source": [
    "dataset[0]"
   ]
  },
  {
   "cell_type": "code",
   "execution_count": 218,
   "metadata": {},
   "outputs": [],
   "source": [
    "X,Y=zip(*dataset)"
   ]
  },
  {
   "cell_type": "code",
   "execution_count": 219,
   "metadata": {},
   "outputs": [
    {
     "data": {
      "text/plain": [
       "8752"
      ]
     },
     "execution_count": 219,
     "metadata": {},
     "output_type": "execute_result"
    }
   ],
   "source": [
    "len(Y)"
   ]
  },
  {
   "cell_type": "code",
   "execution_count": 220,
   "metadata": {},
   "outputs": [],
   "source": [
    "rk,pap,sci=0,0,0\n",
    "for i in Y:\n",
    "    if(i==0):\n",
    "        rk=rk+1\n",
    "    elif(i==1):\n",
    "        pap+=1\n",
    "    else:\n",
    "        sci+=1"
   ]
  },
  {
   "cell_type": "code",
   "execution_count": 221,
   "metadata": {},
   "outputs": [
    {
     "name": "stdout",
     "output_type": "stream",
     "text": [
      "rock: 2848\n",
      "Paper:  2904\n",
      "Scissor:  3000\n"
     ]
    }
   ],
   "source": [
    "print(\"rock:\",rk)\n",
    "print(\"Paper: \",pap)\n",
    "print(\"Scissor: \",sci)"
   ]
  },
  {
   "cell_type": "code",
   "execution_count": 225,
   "metadata": {},
   "outputs": [
    {
     "name": "stderr",
     "output_type": "stream",
     "text": [
      "C:\\Users\\piyush\\Anaconda3\\lib\\site-packages\\seaborn\\categorical.py:249: FutureWarning: Interpreting tuple 'by' as a list of keys, rather than a single key. Use 'by=[...]' instead of 'by=(...)'. In the future, a tuple will always mean a single key.\n",
      "  grouped_vals = vals.groupby(grouper)\n"
     ]
    },
    {
     "data": {
      "text/plain": [
       "<matplotlib.axes._subplots.AxesSubplot at 0x1b320f48088>"
      ]
     },
     "execution_count": 225,
     "metadata": {},
     "output_type": "execute_result"
    },
    {
     "data": {
      "image/png": "[encoded data removed]",
      "text/plain": [
       "<Figure size 432x288 with 1 Axes>"
      ]
     },
     "metadata": {
      "needs_background": "light"
     },
     "output_type": "display_data"
    }
   ],
   "source": [
    "sns.countplot(Y)"
   ]
  },
  {
   "cell_type": "code",
   "execution_count": 226,
   "metadata": {},
   "outputs": [
    {
     "data": {
      "text/plain": [
       "<matplotlib.image.AxesImage at 0x1b3210393c8>"
      ]
     },
     "execution_count": 226,
     "metadata": {},
     "output_type": "execute_result"
    },
    {
     "data": {
      "image/png": "[encoded data removed]",
      "text/plain": [
       "<Figure size 432x288 with 1 Axes>"
      ]
     },
     "metadata": {
      "needs_background": "light"
     },
     "output_type": "display_data"
    }
   ],
   "source": [
    "plt.imshow(np.squeeze(X[0]))"
   ]
  },
  {
   "cell_type": "code",
   "execution_count": 227,
   "metadata": {},
   "outputs": [
    {
     "data": {
      "text/plain": [
       "(8752, 3)"
      ]
     },
     "execution_count": 227,
     "metadata": {},
     "output_type": "execute_result"
    }
   ],
   "source": [
    "Y=to_categorical(Y)\n",
    "Y.shape"
   ]
  },
  {
   "cell_type": "code",
   "execution_count": 228,
   "metadata": {},
   "outputs": [
    {
     "data": {
      "text/plain": [
       "array([[1., 0., 0.],\n",
       "       [1., 0., 0.],\n",
       "       [1., 0., 0.],\n",
       "       ...,\n",
       "       [0., 0., 1.],\n",
       "       [0., 0., 1.],\n",
       "       [0., 0., 1.]], dtype=float32)"
      ]
     },
     "execution_count": 228,
     "metadata": {},
     "output_type": "execute_result"
    }
   ],
   "source": [
    "Y"
   ]
  },
  {
   "cell_type": "code",
   "execution_count": 229,
   "metadata": {},
   "outputs": [
    {
     "data": {
      "text/plain": [
       "(8752, 50, 50, 1)"
      ]
     },
     "execution_count": 229,
     "metadata": {},
     "output_type": "execute_result"
    }
   ],
   "source": [
    "X=np.array(X)\n",
    "X.shape"
   ]
  },
  {
   "cell_type": "code",
   "execution_count": 230,
   "metadata": {},
   "outputs": [],
   "source": [
    "x_train,x_test_val,y_train,y_test_val=train_test_split(X,Y,test_size=0.4,shuffle=True,random_state=11)\n",
    "x_test,x_val,y_test,y_val=train_test_split(x_test_val,y_test_val,test_size=0.5,shuffle=True,random_state=11)"
   ]
  },
  {
   "cell_type": "code",
   "execution_count": 231,
   "metadata": {},
   "outputs": [
    {
     "name": "stdout",
     "output_type": "stream",
     "text": [
      "(5251, 50, 50, 1) (5251, 3)\n",
      "(1750, 50, 50, 1) (1750, 3)\n",
      "(1751, 50, 50, 1) (1751, 3)\n"
     ]
    }
   ],
   "source": [
    "print(x_train.shape,y_train.shape)\n",
    "print(x_test.shape,y_test.shape)\n",
    "print(x_val.shape,y_val.shape)"
   ]
  },
  {
   "cell_type": "code",
   "execution_count": 232,
   "metadata": {},
   "outputs": [
    {
     "name": "stderr",
     "output_type": "stream",
     "text": [
      "C:\\Users\\piyush\\Anaconda3\\lib\\site-packages\\matplotlib\\text.py:1150: FutureWarning: elementwise comparison failed; returning scalar instead, but in the future will perform elementwise comparison\n",
      "  if s != self._text:\n"
     ]
    },
    {
     "data": {
      "image/png": "[encoded data removed]",
      "text/plain": [
       "<Figure size 720x720 with 5 Axes>"
      ]
     },
     "metadata": {
      "needs_background": "light"
     },
     "output_type": "display_data"
    }
   ],
   "source": [
    "plt.figure(figsize=(10,10))\n",
    "for i in range(5):\n",
    "    plt.subplot(5,5,i+1)\n",
    "    plt.imshow(np.squeeze(x_train[i]))\n",
    "    plt.xlabel(y_train[i])\n",
    "    plt.tight_layout()\n",
    "    \n",
    "\n"
   ]
  },
  {
   "cell_type": "code",
   "execution_count": 235,
   "metadata": {},
   "outputs": [],
   "source": [
    "def model_training():\n",
    "    model=Sequential()\n",
    "    model.add(Conv2D(64,(3,3),input_shape=(50,50,1),activation=\"relu\"))\n",
    "    model.add(MaxPooling2D(2,2))\n",
    "    model.add(Dropout(0.3))\n",
    "    model.add(Conv2D(128,(3,3),activation=\"relu\"))\n",
    "    model.add(MaxPooling2D(2,2))\n",
    "    model.add(Dropout(0.3))\n",
    "    model.add(Flatten())\n",
    "    model.add(Dense(256,activation=\"relu\"))\n",
    "    model.add(Dense(3,activation=\"softmax\"))\n",
    "#     model.summary()\n",
    "    return model\n",
    "    \n",
    "model=model_training()    "
   ]
  },
  {
   "cell_type": "code",
   "execution_count": 267,
   "metadata": {},
   "outputs": [
    {
     "name": "stdout",
     "output_type": "stream",
     "text": [
      "Model: \"sequential_8\"\n",
      "_________________________________________________________________\n",
      "Layer (type)                 Output Shape              Param #   \n",
      "=================================================================\n",
      "conv2d_14 (Conv2D)           (None, 48, 48, 64)        640       \n",
      "_________________________________________________________________\n",
      "max_pooling2d_13 (MaxPooling (None, 24, 24, 64)        0         \n",
      "_________________________________________________________________\n",
      "dropout_5 (Dropout)          (None, 24, 24, 64)        0         \n",
      "_________________________________________________________________\n",
      "conv2d_15 (Conv2D)           (None, 22, 22, 128)       73856     \n",
      "_________________________________________________________________\n",
      "max_pooling2d_14 (MaxPooling (None, 11, 11, 128)       0         \n",
      "_________________________________________________________________\n",
      "dropout_6 (Dropout)          (None, 11, 11, 128)       0         \n",
      "_________________________________________________________________\n",
      "flatten_6 (Flatten)          (None, 15488)             0         \n",
      "_________________________________________________________________\n",
      "dense_11 (Dense)             (None, 256)               3965184   \n",
      "_________________________________________________________________\n",
      "dense_12 (Dense)             (None, 3)                 771       \n",
      "=================================================================\n",
      "Total params: 4,040,451\n",
      "Trainable params: 4,040,451\n",
      "Non-trainable params: 0\n",
      "_________________________________________________________________\n"
     ]
    }
   ],
   "source": [
    "model.summary()"
   ]
  },
  {
   "cell_type": "code",
   "execution_count": 237,
   "metadata": {},
   "outputs": [],
   "source": [
    "model.compile(optimizer='adam',loss=\"categorical_crossentropy\",metrics=[\"acc\"])"
   ]
  },
  {
   "cell_type": "code",
   "execution_count": 238,
   "metadata": {},
   "outputs": [
    {
     "data": {
      "text/plain": [
       "(5251, 50, 50, 1)"
      ]
     },
     "execution_count": 238,
     "metadata": {},
     "output_type": "execute_result"
    }
   ],
   "source": [
    "x_train.shape"
   ]
  },
  {
   "cell_type": "code",
   "execution_count": 239,
   "metadata": {},
   "outputs": [
    {
     "name": "stdout",
     "output_type": "stream",
     "text": [
      "Train on 5251 samples, validate on 1751 samples\n",
      "Epoch 1/5\n",
      "5251/5251 [==============================] - 6s 1ms/step - loss: 0.7692 - acc: 0.6483 - val_loss: 0.3678 - val_acc: 0.8789\n",
      "Epoch 2/5\n",
      "5251/5251 [==============================] - 5s 989us/step - loss: 0.2521 - acc: 0.9143 - val_loss: 0.1324 - val_acc: 0.9629\n",
      "Epoch 3/5\n",
      "5251/5251 [==============================] - 5s 1ms/step - loss: 0.1306 - acc: 0.9575 - val_loss: 0.1067 - val_acc: 0.9669\n",
      "Epoch 4/5\n",
      "5251/5251 [==============================] - 5s 979us/step - loss: 0.0896 - acc: 0.9701 - val_loss: 0.0973 - val_acc: 0.9720\n",
      "Epoch 5/5\n",
      "5251/5251 [==============================] - 5s 968us/step - loss: 0.0654 - acc: 0.9752 - val_loss: 0.1079 - val_acc: 0.9652\n"
     ]
    }
   ],
   "source": [
    "history=model.fit(x_train,y_train,validation_data=(x_val,y_val),epochs=5,batch_size=32)"
   ]
  },
  {
   "cell_type": "code",
   "execution_count": 243,
   "metadata": {},
   "outputs": [
    {
     "data": {
      "image/png": "[encoded data removed]",
      "text/plain": [
       "<Figure size 432x288 with 1 Axes>"
      ]
     },
     "metadata": {
      "needs_background": "light"
     },
     "output_type": "display_data"
    }
   ],
   "source": [
    "plt.plot(history.epoch,history.history[\"acc\"],label=\"training_acc\")\n",
    "plt.plot(history.epoch,history.history[\"val_acc\"],label=\"val_acc\")\n",
    "# plt.legend([\"blue\",\"green\"])\n",
    "plt.legend()\n",
    "plt.show()"
   ]
  },
  {
   "cell_type": "code",
   "execution_count": 244,
   "metadata": {},
   "outputs": [
    {
     "data": {
      "image/png": "[encoded data removed]",
      "text/plain": [
       "<Figure size 432x288 with 1 Axes>"
      ]
     },
     "metadata": {
      "needs_background": "light"
     },
     "output_type": "display_data"
    }
   ],
   "source": [
    "plt.plot(history.epoch,history.history[\"loss\"],label=\"training_loss\")\n",
    "plt.plot(history.epoch,history.history[\"val_loss\"],label=\"val_loss\")\n",
    "# plt.legend([\"blue\",\"green\"])\n",
    "plt.legend()\n",
    "plt.show()"
   ]
  },
  {
   "cell_type": "code",
   "execution_count": 245,
   "metadata": {},
   "outputs": [
    {
     "name": "stdout",
     "output_type": "stream",
     "text": [
      "1750/1750 [==============================] - 0s 140us/step\n",
      "Test loss: 0.10332793297937938\n",
      "Test acc: 0.9685714244842529\n"
     ]
    }
   ],
   "source": [
    "test_loss,test_acc=model.evaluate(x_test,y_test,batch_size=128)\n",
    "print(\"Test loss:\",test_loss)\n",
    "print(\"Test acc:\",test_acc)"
   ]
  },
  {
   "cell_type": "code",
   "execution_count": 270,
   "metadata": {},
   "outputs": [],
   "source": [
    "model.save(r\"D:\\Models\\rock_paper_model_pract.h5\")"
   ]
  },
  {
   "cell_type": "code",
   "execution_count": 4,
   "metadata": {},
   "outputs": [],
   "source": [
    "model=keras.models.load_model(r\"D:\\Models\\rock_paper_model_pract.h5\")"
   ]
  },
  {
   "cell_type": "code",
   "execution_count": 246,
   "metadata": {},
   "outputs": [
    {
     "name": "stdout",
     "output_type": "stream",
     "text": [
      "1\n"
     ]
    },
    {
     "data": {
      "text/plain": [
       "array([0., 1., 0.], dtype=float32)"
      ]
     },
     "execution_count": 246,
     "metadata": {},
     "output_type": "execute_result"
    }
   ],
   "source": [
    "print(np.argmax(model.predict(x_test[[0]])))\n",
    "y_test[0]"
   ]
  },
  {
   "cell_type": "code",
   "execution_count": 248,
   "metadata": {},
   "outputs": [
    {
     "data": {
      "text/plain": [
       "{0: 'paper', 1: 'rock', 2: 'scissors'}"
      ]
     },
     "execution_count": 248,
     "metadata": {},
     "output_type": "execute_result"
    }
   ],
   "source": [
    "classes"
   ]
  },
  {
   "cell_type": "code",
   "execution_count": 257,
   "metadata": {},
   "outputs": [
    {
     "data": {
      "text/plain": [
       "array([1., 0., 0.], dtype=float32)"
      ]
     },
     "execution_count": 257,
     "metadata": {},
     "output_type": "execute_result"
    }
   ],
   "source": [
    "y_test[3]"
   ]
  },
  {
   "cell_type": "code",
   "execution_count": 253,
   "metadata": {},
   "outputs": [
    {
     "data": {
      "text/plain": [
       "'paper'"
      ]
     },
     "execution_count": 253,
     "metadata": {},
     "output_type": "execute_result"
    }
   ],
   "source": [
    "classes[np.argmax(y_test[3])]"
   ]
  },
  {
   "cell_type": "code",
   "execution_count": 205,
   "metadata": {},
   "outputs": [
    {
     "data": {
      "text/plain": [
       "1"
      ]
     },
     "execution_count": 205,
     "metadata": {},
     "output_type": "execute_result"
    }
   ],
   "source": [
    "classes[\"rock\"]"
   ]
  },
  {
   "cell_type": "code",
   "execution_count": 256,
   "metadata": {},
   "outputs": [
    {
     "data": {
      "text/plain": [
       "array([[4.7756298e-04, 9.9773550e-01, 1.7869553e-03]], dtype=float32)"
      ]
     },
     "execution_count": 256,
     "metadata": {},
     "output_type": "execute_result"
    }
   ],
   "source": [
    "model.predict(x_test[[0]])"
   ]
  },
  {
   "cell_type": "code",
   "execution_count": 260,
   "metadata": {},
   "outputs": [
    {
     "data": {
      "text/plain": [
       "'rock'"
      ]
     },
     "execution_count": 260,
     "metadata": {},
     "output_type": "execute_result"
    }
   ],
   "source": [
    "pred=np.argmax(model.predict(x_test[[0]]))\n",
    "pred=classes[pred]\n",
    "pred"
   ]
  },
  {
   "cell_type": "code",
   "execution_count": 264,
   "metadata": {},
   "outputs": [
    {
     "data": {
      "image/png": "[encoded data removed]",
      "text/plain": [
       "<Figure size 720x720 with 5 Axes>"
      ]
     },
     "metadata": {
      "needs_background": "light"
     },
     "output_type": "display_data"
    }
   ],
   "source": [
    "plt.figure(figsize=(10,10))\n",
    "for i in range(5):\n",
    "    plt.subplot(5,5,i+1)\n",
    "    plt.imshow(np.squeeze(x_test[i]))\n",
    "    pred=np.argmax(model.predict(x_test[[i]]))\n",
    "    pred=classes[pred]\n",
    "    plt.xlabel(classes[np.argmax(y_test[i])]) #actual value\n",
    "    plt.title(f\"Predicted:{pred}\")\n",
    "    plt.tight_layout()\n",
    "    "
   ]
  },
  {
   "cell_type": "code",
   "execution_count": 22,
   "metadata": {},
   "outputs": [
    {
     "name": "stdout",
     "output_type": "stream",
     "text": [
      "(1, 50, 50, 1)\n",
      "paper\n"
     ]
    }
   ],
   "source": [
    "print(preprocess_predict_video(\"D:CNN practise\\scissor.jpg\"))"
   ]
  },
  {
   "cell_type": "markdown",
   "metadata": {},
   "source": [
    "## Video capture"
   ]
  },
  {
   "cell_type": "code",
   "execution_count": null,
   "metadata": {},
   "outputs": [],
   "source": [
    "def preprocess_predict_video(img):\n",
    "        # img=cv2.imread(img,0)\n",
    "    img=cv2.cvtColor(img,cv2.COLOR_RGB2GRAY)\n",
    "    img=cv2.resize(img,(50,50))\n",
    "    img=np.expand_dims(img,0)\n",
    "    img=np.expand_dims(img,3)\n",
    "    img=img/255.0\n",
    "    # img=load_img(img,target_size=(50,50),color_mode = \"grayscale\")\n",
    "    # img=img_to_array(img)\n",
    "    \n",
    "    # print(img.shape)\n",
    "    \n",
    "    pred=np.argmax(model.predict([img]))\n",
    "    pred=classes[pred]\n",
    "    return pred\n",
    "    \n",
    "    \n",
    "import cv2\n",
    "vid=cv2.VideoCapture(0)\n",
    "while True:\n",
    "    ret,img=vid.read()\n",
    "#     print(ret)\n",
    "    if(ret==True):\n",
    "        img=cv2.rectangle(img,(100,100),(400,400),0.3)\n",
    "        \n",
    "        # cv2.imshow(\"frame\",img);\n",
    "        newimg=img[100:400,100:400]\n",
    "        \n",
    "        prediction=preprocess_predict_video(newimg)\n",
    "        print(prediction)\n",
    "        cv2.putText(img,str(prediction),(300,450),cv2.FONT_HERSHEY_SIMPLEX,1,(255,0,0),2,cv2.LINE_AA)\n",
    "        cv2.imshow(\"camera\",img);\n",
    "     \n",
    "        if cv2.waitKey(10) & 0xFF == ord('q'):\n",
    "            \n",
    "            break\n",
    "    else:\n",
    "        print(\"Can't open\")\n",
    "        break\n",
    "vid.release()\n",
    "# Destroy all the windows\n",
    "cv2.destroyAllWindows()"
   ]
  },
  {
   "cell_type": "code",
   "execution_count": 3,
   "metadata": {},
   "outputs": [
    {
     "data": {
      "text/plain": [
       "'C:\\\\Users\\\\piyush\\\\Jupyter Notebooks'"
      ]
     },
     "execution_count": 3,
     "metadata": {},
     "output_type": "execute_result"
    }
   ],
   "source": [
    "pwd"
   ]
  },
  {
   "cell_type": "code",
   "execution_count": null,
   "metadata": {},
   "outputs": [],
   "source": []
  }
 ],
 "metadata": {
  "kernelspec": {
   "display_name": "Python 3",
   "language": "python",
   "name": "python3"
  },
  "toc": {
   "base_numbering": 1,
   "nav_menu": {},
   "number_sections": true,
   "sideBar": true,
   "skip_h1_title": false,
   "title_cell": "Table of Contents",
   "title_sidebar": "Contents",
   "toc_cell": false,
   "toc_position": {},
   "toc_section_display": true,
   "toc_window_display": false
  },
  "varInspector": {
   "cols": {
    "lenName": 16,
    "lenType": 16,
    "lenVar": 40
   },
   "kernels_config": {
    "python": {
     "delete_cmd_postfix": "",
     "delete_cmd_prefix": "del ",
     "library": "var_list.py",
     "varRefreshCmd": "print(var_dic_list())"
    },
    "r": {
     "delete_cmd_postfix": ") ",
     "delete_cmd_prefix": "rm(",
     "library": "var_list.r",
     "varRefreshCmd": "cat(var_dic_list()) "
    }
   },
   "types_to_exclude": [
    "module",
    "function",
    "builtin_function_or_method",
    "instance",
    "_Feature"
   ],
   "window_display": false
  }
 },
 "nbformat": 4,
 "nbformat_minor": 2
}
